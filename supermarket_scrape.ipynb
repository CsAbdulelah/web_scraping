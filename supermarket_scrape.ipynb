{
 "cells": [
  {
   "cell_type": "markdown",
   "metadata": {},
   "source": [
    "# Madinah Stores web Scaping "
   ]
  },
  {
   "cell_type": "markdown",
   "metadata": {},
   "source": [
    "### Import neccesory libraries "
   ]
  },
  {
   "cell_type": "code",
   "execution_count": 103,
   "metadata": {},
   "outputs": [],
   "source": [
    "import pandas as pd\n",
    "from bs4 import BeautifulSoup\n",
    "from time import sleep\n",
    "from selenium import webdriver\n",
    "import numpy as np"
   ]
  },
  {
   "cell_type": "markdown",
   "metadata": {},
   "source": [
    "### Uplod the page source"
   ]
  },
  {
   "cell_type": "code",
   "execution_count": 104,
   "metadata": {},
   "outputs": [],
   "source": [
    "# create browser obj \n",
    "# !you should download chromedriver  and change executable_path based on chromedriver.exe location\n",
    "\n",
    "driver = webdriver.Chrome(executable_path='../../chromedriver/chromedriver.exe')\n",
    "\n",
    "# url of website\n",
    "driver.get('http://bluepages.com.sa/Home/CityPage/1/1385/')\n",
    "\n",
    "sleep(5) # Delay execution for a given number of seconds to allow the page to be loaded.\n",
    "html = driver.page_source # property/attribute -- Gets the source of the current page.\n"
   ]
  },
  {
   "cell_type": "code",
   "execution_count": 105,
   "metadata": {},
   "outputs": [],
   "source": [
    "#read page by  BeautifulSoup library\n",
    "soup = BeautifulSoup(html,'html')"
   ]
  },
  {
   "cell_type": "code",
   "execution_count": 106,
   "metadata": {},
   "outputs": [
    {
     "name": "stdout",
     "output_type": "stream",
     "text": [
      "There is no more stores\n"
     ]
    }
   ],
   "source": [
    "# we want to load all stores \n",
    "more_button =driver.find_element_by_xpath('//*[@id=\"loadMore\"]/a')  # selct the more button\n",
    "\n",
    "#  so we press 'more' button until the  all stores loded\n",
    "while(True):\n",
    "    try:\n",
    "        more_button.click()\n",
    "    except:\n",
    "        print(\"There is no more stores\")\n",
    "        break\n"
   ]
  },
  {
   "cell_type": "code",
   "execution_count": 107,
   "metadata": {},
   "outputs": [],
   "source": [
    "#website after uploade all data \n",
    "html2 = driver.page_source"
   ]
  },
  {
   "cell_type": "code",
   "execution_count": 108,
   "metadata": {},
   "outputs": [],
   "source": [
    "#read page by  BeautifulSoup library\n",
    "soup2 = BeautifulSoup(html2,'html')"
   ]
  },
  {
   "cell_type": "markdown",
   "metadata": {},
   "source": [
    "### Get all stores in list"
   ]
  },
  {
   "cell_type": "code",
   "execution_count": 109,
   "metadata": {},
   "outputs": [],
   "source": [
    "# list of first 9 stores have different class name \n",
    "list_of_stores = soup2.find_all('div',class_='col-lg-4 col-sm-6 panel-remove-pad')"
   ]
  },
  {
   "cell_type": "code",
   "execution_count": 110,
   "metadata": {},
   "outputs": [],
   "source": [
    "# list of all  other stores\n",
    "list_of_stores2 = soup2.find_all('div',class_='panel panel-info')[1:]"
   ]
  },
  {
   "cell_type": "markdown",
   "metadata": {},
   "source": [
    "### Create new lists and insert  the stores info"
   ]
  },
  {
   "cell_type": "code",
   "execution_count": 111,
   "metadata": {},
   "outputs": [],
   "source": [
    "# Empty lists we will appended in infos\n",
    "store_name = []\n",
    "store_city = []\n",
    "store_number = []\n"
   ]
  },
  {
   "cell_type": "code",
   "execution_count": 112,
   "metadata": {},
   "outputs": [],
   "source": [
    "#for the first list we itirate and append the info\n",
    "for store in list_of_stores:\n",
    "    store_name.append(store.find('h4').text.strip()) # name\n",
    "    store_city.append(store.find('h6',class_='text-info bold SubMainCityFont').text.strip()) #city\n",
    "    store_number.append(store.find('h6',class_='text-info bold SubMainFont').text.split('-')[0].strip())# number"
   ]
  },
  {
   "cell_type": "code",
   "execution_count": 113,
   "metadata": {},
   "outputs": [],
   "source": [
    "#for the second list we itirate and append the info\n",
    "for store in list_of_stores2:\n",
    "    store_name.append(store.find('span',class_='MainLeftFont').text.strip()) # name\n",
    "    store_city.append(store.find_all('left',class_='text-primary')[1].text.strip()) #city\n",
    "    try:\n",
    "        store_number.append(store.find_all('left',class_='text-primary')[2].text.split('-')[0].strip())# number\n",
    "    except:\n",
    "        store_number.append(np.nan)"
   ]
  },
  {
   "cell_type": "markdown",
   "metadata": {},
   "source": [
    "### Create new dataframe and store to new excel file"
   ]
  },
  {
   "cell_type": "code",
   "execution_count": 114,
   "metadata": {},
   "outputs": [
    {
     "data": {
      "text/html": [
       "<div>\n",
       "<style scoped>\n",
       "    .dataframe tbody tr th:only-of-type {\n",
       "        vertical-align: middle;\n",
       "    }\n",
       "\n",
       "    .dataframe tbody tr th {\n",
       "        vertical-align: top;\n",
       "    }\n",
       "\n",
       "    .dataframe thead th {\n",
       "        text-align: right;\n",
       "    }\n",
       "</style>\n",
       "<table border=\"1\" class=\"dataframe\">\n",
       "  <thead>\n",
       "    <tr style=\"text-align: right;\">\n",
       "      <th></th>\n",
       "      <th>store_name</th>\n",
       "      <th>store_city</th>\n",
       "      <th>store_number</th>\n",
       "    </tr>\n",
       "  </thead>\n",
       "  <tbody>\n",
       "    <tr>\n",
       "      <td>0</td>\n",
       "      <td>اوليت العربية</td>\n",
       "      <td>Riyadh</td>\n",
       "      <td>557450100</td>\n",
       "    </tr>\n",
       "    <tr>\n",
       "      <td>1</td>\n",
       "      <td>الاغذية الفرنسية</td>\n",
       "      <td>Riyadh</td>\n",
       "      <td>6658402</td>\n",
       "    </tr>\n",
       "    <tr>\n",
       "      <td>2</td>\n",
       "      <td>مؤسسة ادرار الدولية للتجارة</td>\n",
       "      <td>Riyadh</td>\n",
       "      <td></td>\n",
       "    </tr>\n",
       "    <tr>\n",
       "      <td>3</td>\n",
       "      <td>مؤسسة بازان للتجارة</td>\n",
       "      <td>Riyadh</td>\n",
       "      <td>4028423</td>\n",
       "    </tr>\n",
       "    <tr>\n",
       "      <td>4</td>\n",
       "      <td>مؤسسة النباتى للتجارة</td>\n",
       "      <td>Riyadh</td>\n",
       "      <td>2312048</td>\n",
       "    </tr>\n",
       "    <tr>\n",
       "      <td>...</td>\n",
       "      <td>...</td>\n",
       "      <td>...</td>\n",
       "      <td>...</td>\n",
       "    </tr>\n",
       "    <tr>\n",
       "      <td>2024</td>\n",
       "      <td>مؤسسة على محمد الخريش التجارية</td>\n",
       "      <td>الرياض</td>\n",
       "      <td>4500730</td>\n",
       "    </tr>\n",
       "    <tr>\n",
       "      <td>2025</td>\n",
       "      <td>مؤسسة على محمد الشهرى للتجارة</td>\n",
       "      <td>الرياض</td>\n",
       "      <td>4363950</td>\n",
       "    </tr>\n",
       "    <tr>\n",
       "      <td>2026</td>\n",
       "      <td>مؤسسة على محمد باخشوين للتجارة</td>\n",
       "      <td>الرياض</td>\n",
       "      <td>0114114330</td>\n",
       "    </tr>\n",
       "    <tr>\n",
       "      <td>2027</td>\n",
       "      <td>مؤسسة عواد سالم الشمرى للتجارة  فرع</td>\n",
       "      <td>الرياض</td>\n",
       "      <td>2318644</td>\n",
       "    </tr>\n",
       "    <tr>\n",
       "      <td>2028</td>\n",
       "      <td>مؤسسة عوالم الخليج  للتجارة</td>\n",
       "      <td>الرياض</td>\n",
       "      <td>4780784</td>\n",
       "    </tr>\n",
       "  </tbody>\n",
       "</table>\n",
       "<p>2029 rows × 3 columns</p>\n",
       "</div>"
      ],
      "text/plain": [
       "                               store_name store_city store_number\n",
       "0                           اوليت العربية     Riyadh    557450100\n",
       "1                        الاغذية الفرنسية     Riyadh      6658402\n",
       "2             مؤسسة ادرار الدولية للتجارة     Riyadh             \n",
       "3                     مؤسسة بازان للتجارة     Riyadh      4028423\n",
       "4                   مؤسسة النباتى للتجارة     Riyadh      2312048\n",
       "...                                   ...        ...          ...\n",
       "2024       مؤسسة على محمد الخريش التجارية     الرياض      4500730\n",
       "2025        مؤسسة على محمد الشهرى للتجارة     الرياض      4363950\n",
       "2026       مؤسسة على محمد باخشوين للتجارة     الرياض   0114114330\n",
       "2027  مؤسسة عواد سالم الشمرى للتجارة  فرع     الرياض      2318644\n",
       "2028          مؤسسة عوالم الخليج  للتجارة     الرياض      4780784\n",
       "\n",
       "[2029 rows x 3 columns]"
      ]
     },
     "execution_count": 114,
     "metadata": {},
     "output_type": "execute_result"
    }
   ],
   "source": [
    "#Create a new Data frame \n",
    "df = pd.DataFrame({'store_name':store_name,\n",
    "                  'store_city':store_city,\n",
    "                  'store_number':store_number})\n",
    "df"
   ]
  },
  {
   "cell_type": "code",
   "execution_count": 115,
   "metadata": {},
   "outputs": [],
   "source": [
    "#Save The Data Frame \n",
    "df.to_excel('Ryiadh_stores.xlsx')"
   ]
  },
  {
   "cell_type": "markdown",
   "metadata": {},
   "source": [
    "### We are Done! "
   ]
  },
  {
   "cell_type": "code",
   "execution_count": null,
   "metadata": {},
   "outputs": [],
   "source": []
  }
 ],
 "metadata": {
  "kernelspec": {
   "display_name": "Python 3",
   "language": "python",
   "name": "python3"
  },
  "language_info": {
   "codemirror_mode": {
    "name": "ipython",
    "version": 3
   },
   "file_extension": ".py",
   "mimetype": "text/x-python",
   "name": "python",
   "nbconvert_exporter": "python",
   "pygments_lexer": "ipython3",
   "version": "3.7.4"
  }
 },
 "nbformat": 4,
 "nbformat_minor": 2
}
